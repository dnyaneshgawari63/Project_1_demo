{
 "cells": [
  {
   "cell_type": "code",
   "execution_count": 6,
   "metadata": {},
   "outputs": [],
   "source": [
    "import pandas"
   ]
  },
  {
   "cell_type": "code",
   "execution_count": 5,
   "metadata": {},
   "outputs": [
    {
     "name": "stdout",
     "output_type": "stream",
     "text": [
      "Collecting pandas\n",
      "  Obtaining dependency information for pandas from https://files.pythonhosted.org/packages/c3/6c/ea362eef61f05553aaf1a24b3e96b2d0603f5dc71a3bd35688a24ed88843/pandas-2.0.3-cp38-cp38-win_amd64.whl.metadata\n",
      "  Downloading pandas-2.0.3-cp38-cp38-win_amd64.whl.metadata (18 kB)\n",
      "Requirement already satisfied: python-dateutil>=2.8.2 in d:\\fds\\projects\\project_1\\venv\\lib\\site-packages (from pandas) (2.8.2)\n",
      "Collecting pytz>=2020.1 (from pandas)\n",
      "  Obtaining dependency information for pytz>=2020.1 from https://files.pythonhosted.org/packages/32/4d/aaf7eff5deb402fd9a24a1449a8119f00d74ae9c2efa79f8ef9994261fc2/pytz-2023.3.post1-py2.py3-none-any.whl.metadata\n",
      "  Downloading pytz-2023.3.post1-py2.py3-none-any.whl.metadata (22 kB)\n",
      "Collecting tzdata>=2022.1 (from pandas)\n",
      "  Using cached tzdata-2023.3-py2.py3-none-any.whl (341 kB)\n",
      "Collecting numpy>=1.20.3 (from pandas)\n",
      "  Obtaining dependency information for numpy>=1.20.3 from https://files.pythonhosted.org/packages/69/65/0d47953afa0ad569d12de5f65d964321c208492064c38fe3b0b9744f8d44/numpy-1.24.4-cp38-cp38-win_amd64.whl.metadata\n",
      "  Downloading numpy-1.24.4-cp38-cp38-win_amd64.whl.metadata (5.6 kB)\n",
      "Requirement already satisfied: six>=1.5 in d:\\fds\\projects\\project_1\\venv\\lib\\site-packages (from python-dateutil>=2.8.2->pandas) (1.16.0)\n",
      "Downloading pandas-2.0.3-cp38-cp38-win_amd64.whl (10.8 MB)\n",
      "   ---------------------------------------- 0.0/10.8 MB ? eta -:--:--\n",
      "   - -------------------------------------- 0.4/10.8 MB 7.6 MB/s eta 0:00:02\n",
      "   ---- ----------------------------------- 1.2/10.8 MB 15.4 MB/s eta 0:00:01\n",
      "   ---------- ----------------------------- 2.8/10.8 MB 19.9 MB/s eta 0:00:01\n",
      "   ------------ --------------------------- 3.4/10.8 MB 18.1 MB/s eta 0:00:01\n",
      "   -------------- ------------------------- 4.0/10.8 MB 17.0 MB/s eta 0:00:01\n",
      "   ----------------- ---------------------- 4.6/10.8 MB 16.4 MB/s eta 0:00:01\n",
      "   ------------------- -------------------- 5.2/10.8 MB 16.0 MB/s eta 0:00:01\n",
      "   --------------------- ------------------ 5.8/10.8 MB 15.5 MB/s eta 0:00:01\n",
      "   ----------------------- ---------------- 6.4/10.8 MB 15.2 MB/s eta 0:00:01\n",
      "   -------------------------- ------------- 7.0/10.8 MB 14.9 MB/s eta 0:00:01\n",
      "   -------------------------- ------------- 7.3/10.8 MB 15.0 MB/s eta 0:00:01\n",
      "   -------------------------- ------------- 7.3/10.8 MB 15.0 MB/s eta 0:00:01\n",
      "   ----------------------------- ---------- 8.0/10.8 MB 13.0 MB/s eta 0:00:01\n",
      "   ---------------------------------- ----- 9.4/10.8 MB 14.7 MB/s eta 0:00:01\n",
      "   ------------------------------------- -- 10.0/10.8 MB 14.2 MB/s eta 0:00:01\n",
      "   ---------------------------------------  10.6/10.8 MB 14.9 MB/s eta 0:00:01\n",
      "   ---------------------------------------  10.8/10.8 MB 14.6 MB/s eta 0:00:01\n",
      "   ---------------------------------------- 10.8/10.8 MB 13.1 MB/s eta 0:00:00\n",
      "Downloading numpy-1.24.4-cp38-cp38-win_amd64.whl (14.9 MB)\n",
      "   ---------------------------------------- 0.0/14.9 MB ? eta -:--:--\n",
      "   --- ------------------------------------ 1.3/14.9 MB 26.6 MB/s eta 0:00:01\n",
      "   ----- ---------------------------------- 2.1/14.9 MB 18.9 MB/s eta 0:00:01\n",
      "   ------- -------------------------------- 2.9/14.9 MB 16.6 MB/s eta 0:00:01\n",
      "   --------- ------------------------------ 3.5/14.9 MB 15.8 MB/s eta 0:00:01\n",
      "   ---------- ----------------------------- 4.1/14.9 MB 15.3 MB/s eta 0:00:01\n",
      "   ------------ --------------------------- 4.7/14.9 MB 14.9 MB/s eta 0:00:01\n",
      "   -------------- ------------------------- 5.2/14.9 MB 14.5 MB/s eta 0:00:01\n",
      "   --------------- ------------------------ 5.8/14.9 MB 14.4 MB/s eta 0:00:01\n",
      "   ----------------- ---------------------- 6.5/14.9 MB 14.2 MB/s eta 0:00:01\n",
      "   ------------------ --------------------- 7.0/14.9 MB 14.0 MB/s eta 0:00:01\n",
      "   -------------------- ------------------- 7.6/14.9 MB 13.9 MB/s eta 0:00:01\n",
      "   ---------------------- ----------------- 8.2/14.9 MB 13.9 MB/s eta 0:00:01\n",
      "   ----------------------- ---------------- 8.8/14.9 MB 13.8 MB/s eta 0:00:01\n",
      "   ------------------------- -------------- 9.5/14.9 MB 13.7 MB/s eta 0:00:01\n",
      "   --------------------------- ------------ 10.1/14.9 MB 13.7 MB/s eta 0:00:01\n",
      "   ---------------------------- ----------- 10.7/14.9 MB 13.6 MB/s eta 0:00:01\n",
      "   ------------------------------ --------- 11.3/14.9 MB 12.8 MB/s eta 0:00:01\n",
      "   ------------------------------- -------- 11.9/14.9 MB 12.8 MB/s eta 0:00:01\n",
      "   --------------------------------- ------ 12.5/14.9 MB 12.8 MB/s eta 0:00:01\n",
      "   ----------------------------------- ---- 13.1/14.9 MB 12.8 MB/s eta 0:00:01\n",
      "   ------------------------------------ --- 13.7/14.9 MB 12.9 MB/s eta 0:00:01\n",
      "   -------------------------------------- - 14.3/14.9 MB 12.8 MB/s eta 0:00:01\n",
      "   ---------------------------------------  14.9/14.9 MB 12.8 MB/s eta 0:00:01\n",
      "   ---------------------------------------- 14.9/14.9 MB 11.5 MB/s eta 0:00:00\n",
      "Downloading pytz-2023.3.post1-py2.py3-none-any.whl (502 kB)\n",
      "   ---------------------------------------- 0.0/502.5 kB ? eta -:--:--\n",
      "   --------------------------------------- 502.5/502.5 kB 30.8 MB/s eta 0:00:00\n",
      "Installing collected packages: pytz, tzdata, numpy, pandas\n",
      "Successfully installed numpy-1.24.4 pandas-2.0.3 pytz-2023.3.post1 tzdata-2023.3\n",
      "Note: you may need to restart the kernel to use updated packages.\n"
     ]
    }
   ],
   "source": [
    "pip install pandas"
   ]
  }
 ],
 "metadata": {
  "kernelspec": {
   "display_name": "Python 3",
   "language": "python",
   "name": "python3"
  },
  "language_info": {
   "codemirror_mode": {
    "name": "ipython",
    "version": 3
   },
   "file_extension": ".py",
   "mimetype": "text/x-python",
   "name": "python",
   "nbconvert_exporter": "python",
   "pygments_lexer": "ipython3",
   "version": "3.8.18"
  },
  "orig_nbformat": 4
 },
 "nbformat": 4,
 "nbformat_minor": 2
}
